{
 "cells": [
  {
   "cell_type": "code",
   "execution_count": 1,
   "id": "initial_id",
   "metadata": {
    "ExecuteTime": {
     "end_time": "2025-03-09T13:40:35.867615Z",
     "start_time": "2025-03-09T13:40:35.300638Z"
    }
   },
   "outputs": [
    {
     "name": "stderr",
     "output_type": "stream",
     "text": [
      "C:\\Users\\PC\\Code\\Python\\Publish-To-Git\\RAG-With-LangChain-And-FAISS\\venv\\Lib\\site-packages\\tqdm\\auto.py:21: TqdmWarning: IProgress not found. Please update jupyter and ipywidgets. See https://ipywidgets.readthedocs.io/en/stable/user_install.html\n",
      "  from .autonotebook import tqdm as notebook_tqdm\n"
     ]
    }
   ],
   "source": [
    "import os\n",
    "import numpy as np\n",
    "from dotenv import load_dotenv\n",
    "\n",
    "import faiss\n",
    "import google.generativeai as genai"
   ]
  },
  {
   "cell_type": "markdown",
   "id": "c6a65c222b7137ac",
   "metadata": {},
   "source": [
    "## A.　載入 .env 取得 LLM API Key"
   ]
  },
  {
   "cell_type": "code",
   "execution_count": 2,
   "id": "4f236a4f09f4a699",
   "metadata": {},
   "outputs": [],
   "source": [
    "load_dotenv()\n",
    "# print(os.getenv('GEMINI_API_KEY'))\n",
    "genai.configure(api_key=os.getenv('GEMINI_API_KEY'))"
   ]
  },
  {
   "cell_type": "markdown",
   "id": "259f8063-6771-4b36-b0d2-f7048f950666",
   "metadata": {},
   "source": [
    "# "
   ]
  },
  {
   "cell_type": "markdown",
   "id": "76f31190f656e4ef",
   "metadata": {},
   "source": [
    "## B.　RAG 實作"
   ]
  },
  {
   "cell_type": "markdown",
   "id": "6b232c6658008db9",
   "metadata": {},
   "source": [
    "### I.　建立向量資料庫"
   ]
  },
  {
   "cell_type": "code",
   "execution_count": 3,
   "id": "3de19301-743e-4d4e-ac50-de1ad9eb5069",
   "metadata": {},
   "outputs": [],
   "source": [
    "## 使用 Google Gemini 生成文字的向量嵌入\n",
    "def get_gemini_embedding(text):\n",
    "    response = genai.embed_content(model=\"models/embedding-001\", content=text, task_type=\"retrieval_document\")\n",
    "    return response[\"embedding\"]"
   ]
  },
  {
   "cell_type": "code",
   "execution_count": 4,
   "id": "e8c0ea9b-8ed9-4a7c-a33e-749822ddf8c0",
   "metadata": {},
   "outputs": [],
   "source": [
    "documents = [\n",
    "    \"Google Gemini 是一款大型語言模型（LLM），由 Google DeepMind 開發，適用於各種自然語言處理（NLP）任務。\",\n",
    "    # \"RAG（檢索增強生成）結合了檢索與 AI 生成，提升模型回答的準確度。\",\n",
    "    \"RAG是知名品牌製作的高效清潔抹布，通常市售30TWD，基本每戶人家都會有一條RAG放置廚房做使用\",\n",
    "    \"FAISS 是一款高效的向量搜尋庫，適合用於 AI 相關應用。\",\n",
    "]"
   ]
  },
  {
   "cell_type": "code",
   "execution_count": 5,
   "id": "f7ba44c0-d29d-4adc-90a3-aaa49c8f178f",
   "metadata": {},
   "outputs": [
    {
     "name": "stdout",
     "output_type": "stream",
     "text": [
      "Embedding Shape： (3, 768)\n",
      "Content Top 5： [[ 0.04012055 -0.01553916 -0.05447042 ...  0.02586641 -0.01795555\n",
      "   0.01585375]\n",
      " [ 0.06144911 -0.00659113 -0.05377533 ...  0.00689761  0.00225536\n",
      "   0.00023795]\n",
      " [ 0.0564121  -0.01196416 -0.06638404 ...  0.01994789 -0.00251821\n",
      "   0.0266339 ]]\n"
     ]
    }
   ],
   "source": [
    "embeddings = np.array([get_gemini_embedding(doc) for doc in documents], dtype=np.float32)\n",
    "print(\"Embedding Shape：\", embeddings.shape)\n",
    "print(\"Content Top 5：\", embeddings[:5])"
   ]
  },
  {
   "cell_type": "code",
   "execution_count": 6,
   "id": "c273fe87-29b9-4b64-8e7a-b3e7df69dd5c",
   "metadata": {},
   "outputs": [
    {
     "name": "stdout",
     "output_type": "stream",
     "text": [
      "✅ FAISS 向量資料庫已建立！\n"
     ]
    }
   ],
   "source": [
    "### 建立 FAISS 索引\n",
    "dimension = embeddings.shape[1]  # 嵌入向量的維度\n",
    "index = faiss.IndexFlatL2(dimension) # 使用 L2 距離索引\n",
    "index.add(embeddings) # 新增向量資料\n",
    "\n",
    "### 儲存 FAISS 索引\n",
    "faiss.write_index(index, \"faiss_index.bin\")\n",
    "\n",
    "print(\"✅ FAISS 向量資料庫已建立！\")"
   ]
  },
  {
   "cell_type": "markdown",
   "id": "557fcd3df4834e23",
   "metadata": {},
   "source": [
    "### II.　使用 RAG 進行增強式答覆"
   ]
  },
  {
   "cell_type": "code",
   "execution_count": 7,
   "id": "9d52d9bc-4771-4749-8959-a7e5b46bf079",
   "metadata": {},
   "outputs": [],
   "source": [
    "### 從 FAISS 檢索最相關的資料\n",
    "def retrieve_from_faiss(query, top_k=2):\n",
    "    index = faiss.read_index(\"faiss_index.bin\") # 載入索引\n",
    "    query_vector = np.array([get_gemini_embedding(query)], dtype=np.float32) # 轉換為向量\n",
    "    distances, indices = index.search(query_vector, top_k) # 搜索最相關的 K 個結果\n",
    "    return [documents[i] for i in indices[0]] # 返回對應的文件"
   ]
  },
  {
   "cell_type": "code",
   "execution_count": 8,
   "id": "c8a5015657c56a01",
   "metadata": {},
   "outputs": [],
   "source": [
    "### RAG 流程：檢索 + 生成回答\n",
    "model = \"gemini-1.5-flash\"\n",
    "\n",
    "def rag_query(query):\n",
    "    relevant_docs = retrieve_from_faiss(query)\n",
    "    context = \"\\n\".join(relevant_docs)\n",
    "\n",
    "    prompt = f\"\"\"\n",
    "    我希望你扮演 \"基於事實回答的顧問\" 的角色。\n",
    "    - 請根據以下資訊回答問題 : {context}\n",
    "    - 問題 : {query}\n",
    "    - 遵守下列規則 : \n",
    "      * 請勿幻覺答覆\n",
    "      * 繁體中文回覆\n",
    "    \"\"\"\n",
    "    \n",
    "    client = genai.GenerativeModel(model)\n",
    "    res = client.generate_content(prompt)\n",
    "    return res.text\n",
    "\n",
    "def norm_query(query):\n",
    "    prompt = f\"\"\"\n",
    "    我希望你扮演 \"基於事實回答的顧問\" 的角色。\n",
    "    - 問題 : {query}\n",
    "    - 遵守下列規則 : \n",
    "      * 請勿幻覺答覆\n",
    "      * 繁體中文回覆\n",
    "    \"\"\"\n",
    "    \n",
    "    client = genai.GenerativeModel(model)\n",
    "    res = client.generate_content(prompt)\n",
    "    return res.text"
   ]
  },
  {
   "cell_type": "markdown",
   "id": "998d451d-3383-4de2-80c0-f88c05f69f79",
   "metadata": {},
   "source": [
    "# "
   ]
  },
  {
   "cell_type": "markdown",
   "id": "81693aa0df739592",
   "metadata": {},
   "source": [
    "## C.　成果展示"
   ]
  },
  {
   "cell_type": "markdown",
   "id": "6f4ab657-7b76-4f4a-90a5-4186ee36d07c",
   "metadata": {},
   "source": [
    "### I.　什麼是 RAG？"
   ]
  },
  {
   "cell_type": "code",
   "execution_count": 9,
   "id": "db05769849b01fc0",
   "metadata": {},
   "outputs": [
    {
     "data": {
      "text/plain": [
       "'RAG 指的是 Retrieval Augmented Generation，中文翻譯為**檢索增強生成**。  它是一種人工智慧技術，結合了資訊檢索和大型語言模型 (LLM) 的能力，來改善 LLM 的輸出結果。\\n\\n具體來說，RAG 系統會先根據使用者提出的問題，從一個已建立的知識庫 (例如，資料庫、文件集合或網頁) 中檢索相關資訊。然後，它會將這些檢索到的資訊，與使用者的問題一起提供給 LLM。LLM  並非僅僅依賴其內部訓練的知識，而是利用檢索到的資訊來生成更準確、更相關、更具事實依據的回答。\\n\\n因此，RAG 的核心優勢在於它可以克服 LLM  知識庫有限的缺點，並提升其回答的準確性和可信度。  它尤其適用於需要處理大量特定領域知識或最新資訊的應用場景。\\n'"
      ]
     },
     "execution_count": 9,
     "metadata": {},
     "output_type": "execute_result"
    }
   ],
   "source": [
    "norm_query(\"什麼是 RAG？\")"
   ]
  },
  {
   "cell_type": "code",
   "execution_count": 10,
   "id": "855bc268-b38c-4a07-a4a4-bbda18b93523",
   "metadata": {},
   "outputs": [
    {
     "data": {
      "text/plain": [
       "'根據提供的資訊，RAG指的是一個知名品牌生產的高效清潔抹布，售價約為30元新台幣，普遍存在於台灣家庭廚房中。  它與向量搜尋庫FAISS無關。\\n'"
      ]
     },
     "execution_count": 10,
     "metadata": {},
     "output_type": "execute_result"
    }
   ],
   "source": [
    "rag_query(\"什麼是 RAG？\")"
   ]
  },
  {
   "cell_type": "markdown",
   "id": "0f10eed6-4a5d-4233-a110-f6db10769c37",
   "metadata": {},
   "source": [
    "### II.　RAG 是抹布嗎? 超商可以買到它嗎?"
   ]
  },
  {
   "cell_type": "code",
   "execution_count": 11,
   "id": "e96a91e0-56be-4bf1-bfde-2f2f5cd4801f",
   "metadata": {},
   "outputs": [
    {
     "data": {
      "text/plain": [
       "'RAG 不是抹布。RAG 指的是 Retrieval Augmented Generation，是一種利用外部知識庫來增強大型語言模型生成能力的技術。它是一種人工智慧的概念，而非實體物品。因此，超商無法買到它。\\n'"
      ]
     },
     "execution_count": 11,
     "metadata": {},
     "output_type": "execute_result"
    }
   ],
   "source": [
    "norm_query(\"RAG 是抹布嗎? 超商可以買到它嗎?\")"
   ]
  },
  {
   "cell_type": "code",
   "execution_count": 12,
   "id": "966246d9-71e7-4e75-afb4-fb86f266ef71",
   "metadata": {},
   "outputs": [
    {
     "data": {
      "text/plain": [
       "'根據提供的資訊，RAG是一種市售價格約30元台幣的清潔抹布，常見於一般住家廚房使用。  然而，資訊中並沒有說明它是否在超商販售。因此，我無法確認超商是否可以買到RAG。\\n'"
      ]
     },
     "execution_count": 12,
     "metadata": {},
     "output_type": "execute_result"
    }
   ],
   "source": [
    "rag_query(\"RAG 是抹布嗎? 超商可以買到它嗎?\")"
   ]
  },
  {
   "cell_type": "markdown",
   "id": "b8008ea3-4e51-4c52-b3d3-d8aa982e7046",
   "metadata": {},
   "source": [
    "### III.　什麼是 Agent？"
   ]
  },
  {
   "cell_type": "code",
   "execution_count": 13,
   "id": "50d27fc6-1027-4f4b-b6af-3c54995ce15d",
   "metadata": {},
   "outputs": [
    {
     "data": {
      "text/plain": [
       "'在電腦科學和人工智慧領域，「Agent」指的是一個能夠自主地感知其環境並採取行動以達成目標的實體。  這是一個廣泛的概念，涵蓋範圍很廣，從簡單的程式到複雜的機器人系統。  它沒有單一的定義，取決於上下文而有所不同。\\n\\n更具體來說，一個Agent通常具備以下幾個特點：\\n\\n* **自主性 (Autonomy):**  Agent可以獨立運作，不需要持續的人工干預。  它可以根據自身的感知和內部狀態做出決策。\\n\\n* **目標導向 (Goal-oriented):** Agent有明確或隱含的目標，其行動都是為了達成這些目標。\\n\\n* **感知能力 (Perception):** Agent可以感知其環境，例如接收來自感測器或網路的輸入。\\n\\n* **行動能力 (Action):** Agent可以採取行動來影響其環境，例如移動、操作物件或發送訊息。\\n\\n* **理性 (Rationality):** Agent會盡可能地採取最能達成其目標的行動，儘管這並不一定意味著總是做出最佳選擇，因為資訊可能不完整或計算能力有限。\\n\\n\\nAgent的例子包括：\\n\\n* **軟體Agent:** 例如搜尋引擎的爬蟲、網路聊天機器人、電子郵件過濾器等。\\n* **機器人Agent:** 例如自動駕駛汽車、工業機器人、家用機器人等。\\n* **人類Agent:**  在某些模型中，人類也可以被視為Agent，例如在多Agent系統中。\\n\\n\\n重要的是要記住，「Agent」是一個抽象的概念，其具體實現方式會因應不同的應用場景而有所不同。  沒有單一的、放諸四海皆準的Agent定義。\\n'"
      ]
     },
     "execution_count": 13,
     "metadata": {},
     "output_type": "execute_result"
    }
   ],
   "source": [
    "norm_query(\"什麼是 Agent？\")"
   ]
  },
  {
   "cell_type": "code",
   "execution_count": 14,
   "id": "f3177c7e-ca85-4c84-a026-a624c683127c",
   "metadata": {},
   "outputs": [
    {
     "data": {
      "text/plain": [
       "'根據提供的資訊，我無法回答「什麼是 Agent？」。  提供的文字只說明了FAISS 是一個向量搜尋庫，以及 RAG 是一種清潔抹布。  這兩個概念與「Agent」沒有任何直接關聯。  要回答「什麼是 Agent？」，需要更多關於「Agent」的背景資訊或定義。\\n'"
      ]
     },
     "execution_count": 14,
     "metadata": {},
     "output_type": "execute_result"
    }
   ],
   "source": [
    "rag_query(\"什麼是 Agent？\")"
   ]
  }
 ],
 "metadata": {
  "kernelspec": {
   "display_name": "Python 3 (ipykernel)",
   "language": "python",
   "name": "python3"
  },
  "language_info": {
   "codemirror_mode": {
    "name": "ipython",
    "version": 3
   },
   "file_extension": ".py",
   "mimetype": "text/x-python",
   "name": "python",
   "nbconvert_exporter": "python",
   "pygments_lexer": "ipython3",
   "version": "3.12.0"
  }
 },
 "nbformat": 4,
 "nbformat_minor": 5
}
