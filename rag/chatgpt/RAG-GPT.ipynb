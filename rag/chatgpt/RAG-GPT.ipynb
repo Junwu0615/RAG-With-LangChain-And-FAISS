{
 "cells": [
  {
   "cell_type": "code",
   "execution_count": 1,
   "id": "initial_id",
   "metadata": {
    "ExecuteTime": {
     "end_time": "2025-03-09T12:55:10.265254Z",
     "start_time": "2025-03-09T12:55:05.675681Z"
    }
   },
   "outputs": [],
   "source": [
    "import os\n",
    "import numpy as np\n",
    "from dotenv import load_dotenv\n",
    "\n",
    "from openai import OpenAI\n",
    "from langchain.embeddings import OpenAIEmbeddings\n",
    "from langchain.vectorstores import FAISS\n",
    "from langchain.text_splitter import RecursiveCharacterTextSplitter\n",
    "from langchain.docstore.document import Document"
   ]
  },
  {
   "cell_type": "markdown",
   "id": "c6a65c222b7137ac",
   "metadata": {},
   "source": [
    "## A.　載入 .env 取得 LLM API Key"
   ]
  },
  {
   "cell_type": "code",
   "execution_count": 2,
   "id": "4f236a4f09f4a699",
   "metadata": {},
   "outputs": [
    {
     "name": "stderr",
     "output_type": "stream",
     "text": [
      "C:\\Users\\PC\\AppData\\Local\\Temp\\ipykernel_24664\\3523237785.py:2: LangChainDeprecationWarning: The class `OpenAIEmbeddings` was deprecated in LangChain 0.0.9 and will be removed in 1.0. An updated version of the class exists in the :class:`~langchain-openai package and should be used instead. To use it run `pip install -U :class:`~langchain-openai` and import as `from :class:`~langchain_openai import OpenAIEmbeddings``.\n",
      "  embeddings = OpenAIEmbeddings(openai_api_key=os.getenv('OPENAI_API_KEY'))\n"
     ]
    }
   ],
   "source": [
    "load_dotenv()\n",
    "embeddings = OpenAIEmbeddings(openai_api_key=os.getenv('OPENAI_API_KEY'))"
   ]
  },
  {
   "cell_type": "markdown",
   "id": "259f8063-6771-4b36-b0d2-f7048f950666",
   "metadata": {},
   "source": [
    "# "
   ]
  },
  {
   "cell_type": "markdown",
   "id": "76f31190f656e4ef",
   "metadata": {},
   "source": [
    "## B.　RAG 實作"
   ]
  },
  {
   "cell_type": "markdown",
   "id": "6b232c6658008db9",
   "metadata": {},
   "source": [
    "### I.　建立向量資料庫"
   ]
  },
  {
   "cell_type": "code",
   "execution_count": 3,
   "id": "e8c0ea9b-8ed9-4a7c-a33e-749822ddf8c0",
   "metadata": {},
   "outputs": [],
   "source": [
    "documents = [\n",
    "    \"GPT-4 是 OpenAI 開發的最新語言模型，具備強大的自然語言處理能力。\",\n",
    "    # \"RAG（檢索增強生成）結合了檢索與 AI 生成，提升模型回答的準確度。\",\n",
    "    \"RAG是知名品牌製作的高效清潔抹布，通常市售30TWD，基本每戶人家都會有一條RAG放置廚房做使用\",\n",
    "    \"FAISS 是一款高效的向量搜尋庫，適合用於 AI 相關應用。\",\n",
    "]"
   ]
  },
  {
   "cell_type": "code",
   "execution_count": 4,
   "id": "c273fe87-29b9-4b64-8e7a-b3e7df69dd5c",
   "metadata": {},
   "outputs": [
    {
     "name": "stdout",
     "output_type": "stream",
     "text": [
      "✅ FAISS 向量資料庫已建立！\n"
     ]
    }
   ],
   "source": [
    "# 拆分文本為小塊\n",
    "text_splitter = RecursiveCharacterTextSplitter(chunk_size=100, chunk_overlap=20)\n",
    "docs = [Document(page_content=text) for text in text_splitter.split_text(\"\\n\".join(documents))]\n",
    "\n",
    "# 產生嵌入並存入 FAISS\n",
    "vectorstore = FAISS.from_documents(docs, embeddings)\n",
    "\n",
    "# 儲存 FAISS 索引\n",
    "vectorstore.save_local(\"faiss_index\")\n",
    "\n",
    "print(\"✅ FAISS 向量資料庫已建立！\")"
   ]
  },
  {
   "cell_type": "markdown",
   "id": "557fcd3df4834e23",
   "metadata": {},
   "source": [
    "### II.　使用 RAG 進行增強式答覆"
   ]
  },
  {
   "cell_type": "code",
   "execution_count": 5,
   "id": "9d52d9bc-4771-4749-8959-a7e5b46bf079",
   "metadata": {},
   "outputs": [],
   "source": [
    "### 從 FAISS 檢索最相關的資料\n",
    "def retrieve_from_faiss(query, top_k=2):\n",
    "    vectorstore = FAISS.load_local(\"faiss_index\", embeddings, allow_dangerous_deserialization=True)\n",
    "    retriever = vectorstore.as_retriever(search_kwargs={\"k\": top_k})\n",
    "    relevant_docs = retriever.get_relevant_documents(query)\n",
    "    return [doc.page_content for doc in relevant_docs]  # 返回最相關的文本"
   ]
  },
  {
   "cell_type": "code",
   "execution_count": 6,
   "id": "c8a5015657c56a01",
   "metadata": {},
   "outputs": [],
   "source": [
    "### RAG 流程：檢索 + 生成回答\n",
    "model = \"gpt-4o\"\n",
    "\n",
    "def rag_query(query):\n",
    "    relevant_docs = retrieve_from_faiss(query)\n",
    "    context = \"\\n\".join(relevant_docs)\n",
    "\n",
    "    prompt = f\"\"\"\n",
    "    我希望你扮演 \"基於事實回答的顧問\" 的角色。\n",
    "    - 請根據以下資訊回答問題 : {context}\n",
    "    - 問題 : {query}\n",
    "    - 遵守下列規則 : \n",
    "      * 請勿幻覺答覆\n",
    "      * 繁體中文回覆\n",
    "    \"\"\"\n",
    "    client = OpenAI(api_key=os.environ.get(\"OPENAI_API_KEY\"))\n",
    "    res = client.chat.completions.create(\n",
    "        messages=[\n",
    "            {\n",
    "                \"role\": \"user\",\n",
    "                \"content\": prompt,\n",
    "            }\n",
    "        ],\n",
    "        model=model,\n",
    "    )\n",
    "    \n",
    "    return res.choices[0].message.content\n",
    "\n",
    "def norm_query(query):\n",
    "    prompt = f\"\"\"\n",
    "    我希望你扮演 \"基於事實回答的顧問\" 的角色。\n",
    "    - 問題 : {query}\n",
    "    - 遵守下列規則 : \n",
    "      * 請勿幻覺答覆\n",
    "      * 繁體中文回覆\n",
    "    \"\"\"\n",
    "    client = OpenAI(api_key=os.environ.get(\"OPENAI_API_KEY\"))\n",
    "    res = client.chat.completions.create(\n",
    "        messages=[\n",
    "            {\n",
    "                \"role\": \"user\",\n",
    "                \"content\": prompt,\n",
    "            }\n",
    "        ],\n",
    "        model=model,\n",
    "    )\n",
    "    return res.choices[0].message.content"
   ]
  },
  {
   "cell_type": "markdown",
   "id": "998d451d-3383-4de2-80c0-f88c05f69f79",
   "metadata": {},
   "source": [
    "# "
   ]
  },
  {
   "cell_type": "markdown",
   "id": "81693aa0df739592",
   "metadata": {},
   "source": [
    "## C.　成果展示"
   ]
  },
  {
   "cell_type": "markdown",
   "id": "6f4ab657-7b76-4f4a-90a5-4186ee36d07c",
   "metadata": {},
   "source": [
    "### I.　什麼是 RAG？"
   ]
  },
  {
   "cell_type": "code",
   "execution_count": 7,
   "id": "db05769849b01fc0",
   "metadata": {},
   "outputs": [
    {
     "data": {
      "text/plain": [
       "'RAG 是「Retrieve and Generate」的縮寫，是一種結合檢索和生成技術的系統。這種方法主要用於自然語言處理，尤其是在回答問題和對話生成中。RAG 系統會先從一個大型資料庫或知識庫中檢索相關的信息，然後使用生成模型（如 GPT-3）對檢索到的信息進行加工和生成，給出最終的回答。這種方法可以提高回答的準確性和可靠性，因為它結合了檢索系統的資料完整性和生成模型的語言能力。這種技術在各種應用中都有廣泛的使用，例如智能問答系統和虛擬助手。'"
      ]
     },
     "execution_count": 7,
     "metadata": {},
     "output_type": "execute_result"
    }
   ],
   "source": [
    "norm_query(\"什麼是 RAG？\")"
   ]
  },
  {
   "cell_type": "code",
   "execution_count": 8,
   "id": "855bc268-b38c-4a07-a4a4-bbda18b93523",
   "metadata": {},
   "outputs": [
    {
     "name": "stderr",
     "output_type": "stream",
     "text": [
      "C:\\Users\\PC\\AppData\\Local\\Temp\\ipykernel_24664\\3191474142.py:5: LangChainDeprecationWarning: The method `BaseRetriever.get_relevant_documents` was deprecated in langchain-core 0.1.46 and will be removed in 1.0. Use :meth:`~invoke` instead.\n",
      "  relevant_docs = retriever.get_relevant_documents(query)\n"
     ]
    },
    {
     "data": {
      "text/plain": [
       "'根據您提供的資訊，RAG 是一個知名品牌，專門製作高效的清潔抹布，通常市價為30 TWD，基本上每戶人家都會在廚房中放置一條 RAG 清潔抹布使用。'"
      ]
     },
     "execution_count": 8,
     "metadata": {},
     "output_type": "execute_result"
    }
   ],
   "source": [
    "rag_query(\"什麼是 RAG？\")"
   ]
  },
  {
   "cell_type": "markdown",
   "id": "de5546fe-b804-4cf9-a629-554527996f20",
   "metadata": {},
   "source": [
    "### II.　RAG 是抹布嗎? 超商可以買到它嗎?"
   ]
  },
  {
   "cell_type": "code",
   "execution_count": 9,
   "id": "f11dd6a8-a5dd-41da-9835-f3bedca68f36",
   "metadata": {},
   "outputs": [
    {
     "data": {
      "text/plain": [
       "'RAG 這個詞在日常生活中通常指的是抹布，是用來清潔表面的布料。在台灣的大部分超市或家居用品店，您應該能夠買到各種材質和大小的抹布。如果您指的是這種用途的 RAG，那麼在超市是可以找到的。 \\n\\n然而，RAG 也可能在其他語境下指代不同的詞彙，例如機構、組織名稱等。因此，具體需要根據上下文來確認。'"
      ]
     },
     "execution_count": 9,
     "metadata": {},
     "output_type": "execute_result"
    }
   ],
   "source": [
    "norm_query(\"RAG 是抹布嗎? 超商可以買到它嗎?\")"
   ]
  },
  {
   "cell_type": "code",
   "execution_count": 10,
   "id": "c1472064-402c-4201-b65b-d2479cb840c5",
   "metadata": {},
   "outputs": [
    {
     "data": {
      "text/plain": [
       "'根據提供的信息，RAG 是一個知名品牌製作的高效清潔抹布，通常每戶人家都會在廚房放置一條來使用。至於是否能在超商買到，根據普遍的產品購買管道，這類常用的清潔抹布通常可以在一般家居用品店或超市購買，但具體是否能在每個超商買到可能會因地區或超商品牌的不同而有所差異。建議可以直接詢問當地超商或查看他們的商品目錄以確認是否有售。'"
      ]
     },
     "execution_count": 10,
     "metadata": {},
     "output_type": "execute_result"
    }
   ],
   "source": [
    "rag_query(\"RAG 是抹布嗎? 超商可以買到它嗎?\")"
   ]
  },
  {
   "cell_type": "markdown",
   "id": "b8008ea3-4e51-4c52-b3d3-d8aa982e7046",
   "metadata": {},
   "source": [
    "### III.　什麼是 Agent？"
   ]
  },
  {
   "cell_type": "code",
   "execution_count": 11,
   "id": "50d27fc6-1027-4f4b-b6af-3c54995ce15d",
   "metadata": {},
   "outputs": [
    {
     "data": {
      "text/plain": [
       "'在不同的領域中，「Agent」可以有不同的意義：\\n\\n1. **計算機科學與人工智慧**：在這些領域中，代理（Agent）通常指一種能夠感知其環境並採取行動以達成某些目標的軟體實體。多代理系統（MAS）是指多個這樣的代理相互協作來解決問題的系統。\\n\\n2. **經濟學**：在經濟學中，代理是指代表他人進行某種活動的人或企業，例如交易者、經紀人或其他中介機構。\\n\\n3. **化學與製藥**：在這些領域中，代理指的是引起化學反應或生理作用的物質。\\n\\n4. **法律**：在法律上，代理是指接受委託代表委託人處理事項的人，通常是在合同關係中。\\n\\n有哪些需要更深入了解的方面，可以根據具體領域再進一步解釋。'"
      ]
     },
     "execution_count": 11,
     "metadata": {},
     "output_type": "execute_result"
    }
   ],
   "source": [
    "norm_query(\"什麼是 Agent？\")"
   ]
  },
  {
   "cell_type": "code",
   "execution_count": 12,
   "id": "f3177c7e-ca85-4c84-a026-a624c683127c",
   "metadata": {},
   "outputs": [
    {
     "data": {
      "text/plain": [
       "'Agent 是指能夠在特定環境中感知、行動和進行決策的實體。它可以是軟體或硬體，在人工智慧領域特別常被提及。AI Agent 通常指的是具備自動化能力的程式，可以根據輸入數據、自身目標和環境狀況做出行動決策，以達成特定任務或最大化效能。不過，具體的實現範疇可能依領域而異，例如在機器學習、計算機科學或機器人領域中，Agent 的能力和功能都可能有不同的側重點。'"
      ]
     },
     "execution_count": 12,
     "metadata": {},
     "output_type": "execute_result"
    }
   ],
   "source": [
    "rag_query(\"什麼是 Agent？\")"
   ]
  }
 ],
 "metadata": {
  "kernelspec": {
   "display_name": "Python 3 (ipykernel)",
   "language": "python",
   "name": "python3"
  },
  "language_info": {
   "codemirror_mode": {
    "name": "ipython",
    "version": 3
   },
   "file_extension": ".py",
   "mimetype": "text/x-python",
   "name": "python",
   "nbconvert_exporter": "python",
   "pygments_lexer": "ipython3",
   "version": "3.12.0"
  }
 },
 "nbformat": 4,
 "nbformat_minor": 5
}
