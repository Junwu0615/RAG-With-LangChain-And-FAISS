{
 "cells": [
  {
   "cell_type": "code",
   "execution_count": 1,
   "id": "initial_id",
   "metadata": {
    "ExecuteTime": {
     "end_time": "2025-03-09T12:55:10.265254Z",
     "start_time": "2025-03-09T12:55:05.675681Z"
    }
   },
   "outputs": [],
   "source": [
    "import os\n",
    "import numpy as np\n",
    "from dotenv import load_dotenv\n",
    "\n",
    "from openai import OpenAI\n",
    "from langchain.embeddings import OpenAIEmbeddings\n",
    "from langchain.vectorstores import FAISS\n",
    "from langchain.text_splitter import RecursiveCharacterTextSplitter\n",
    "from langchain.docstore.document import Document"
   ]
  },
  {
   "cell_type": "markdown",
   "id": "c6a65c222b7137ac",
   "metadata": {},
   "source": [
    "## A.　載入 .env 取得 LLM API Key"
   ]
  },
  {
   "cell_type": "code",
   "execution_count": 2,
   "id": "4f236a4f09f4a699",
   "metadata": {},
   "outputs": [
    {
     "name": "stderr",
     "output_type": "stream",
     "text": [
      "C:\\Users\\PC\\AppData\\Local\\Temp\\ipykernel_51496\\3523237785.py:2: LangChainDeprecationWarning: The class `OpenAIEmbeddings` was deprecated in LangChain 0.0.9 and will be removed in 1.0. An updated version of the class exists in the :class:`~langchain-openai package and should be used instead. To use it run `pip install -U :class:`~langchain-openai` and import as `from :class:`~langchain_openai import OpenAIEmbeddings``.\n",
      "  embeddings = OpenAIEmbeddings(openai_api_key=os.getenv('OPENAI_API_KEY'))\n"
     ]
    }
   ],
   "source": [
    "load_dotenv()\n",
    "embeddings = OpenAIEmbeddings(openai_api_key=os.getenv('OPENAI_API_KEY'))"
   ]
  },
  {
   "cell_type": "markdown",
   "id": "259f8063-6771-4b36-b0d2-f7048f950666",
   "metadata": {},
   "source": [
    "# "
   ]
  },
  {
   "cell_type": "markdown",
   "id": "76f31190f656e4ef",
   "metadata": {},
   "source": [
    "## B.　RAG 實作"
   ]
  },
  {
   "cell_type": "markdown",
   "id": "6b232c6658008db9",
   "metadata": {},
   "source": [
    "### I.　建立向量資料庫"
   ]
  },
  {
   "cell_type": "code",
   "execution_count": 3,
   "id": "e8c0ea9b-8ed9-4a7c-a33e-749822ddf8c0",
   "metadata": {},
   "outputs": [],
   "source": [
    "documents = [\n",
    "    \"GPT-4 是 OpenAI 開發的最新語言模型，具備強大的自然語言處理能力。\",\n",
    "    # \"RAG（檢索增強生成）結合了檢索與 AI 生成，提升模型回答的準確度。\",\n",
    "    \"RAG是知名品牌製作的高效清潔抹布，通常市售30TWD，基本每戶人家都會有一條RAG放置廚房做使用\",\n",
    "    \"FAISS 是一款高效的向量搜尋庫，適合用於 AI 相關應用。\",\n",
    "]"
   ]
  },
  {
   "cell_type": "code",
   "execution_count": 4,
   "id": "c273fe87-29b9-4b64-8e7a-b3e7df69dd5c",
   "metadata": {},
   "outputs": [
    {
     "name": "stdout",
     "output_type": "stream",
     "text": [
      "✅ FAISS 向量資料庫已建立！\n"
     ]
    }
   ],
   "source": [
    "# 拆分文本為小塊\n",
    "text_splitter = RecursiveCharacterTextSplitter(chunk_size=100, chunk_overlap=20)\n",
    "docs = [Document(page_content=text) for text in text_splitter.split_text(\"\\n\".join(documents))]\n",
    "\n",
    "# 產生嵌入並存入 FAISS\n",
    "vectorstore = FAISS.from_documents(docs, embeddings)\n",
    "\n",
    "# 儲存 FAISS 索引\n",
    "vectorstore.save_local(\"faiss_index\")\n",
    "\n",
    "print(\"✅ FAISS 向量資料庫已建立！\")"
   ]
  },
  {
   "cell_type": "markdown",
   "id": "557fcd3df4834e23",
   "metadata": {},
   "source": [
    "### II.　使用 Gemini 進行 RAG"
   ]
  },
  {
   "cell_type": "code",
   "execution_count": 5,
   "id": "9d52d9bc-4771-4749-8959-a7e5b46bf079",
   "metadata": {},
   "outputs": [],
   "source": [
    "### 從 FAISS 檢索最相關的資料\n",
    "def retrieve_from_faiss(query, top_k=2):\n",
    "    vectorstore = FAISS.load_local(\"faiss_index\", embeddings, allow_dangerous_deserialization=True)\n",
    "    retriever = vectorstore.as_retriever(search_kwargs={\"k\": top_k})\n",
    "    relevant_docs = retriever.get_relevant_documents(query)\n",
    "    return [doc.page_content for doc in relevant_docs]  # 返回最相關的文本"
   ]
  },
  {
   "cell_type": "code",
   "execution_count": 6,
   "id": "c8a5015657c56a01",
   "metadata": {},
   "outputs": [],
   "source": [
    "### RAG 流程：檢索 + 生成回答\n",
    "model = \"gpt-4o\"\n",
    "\n",
    "def rag_query(query):\n",
    "    relevant_docs = retrieve_from_faiss(query)\n",
    "    context = \"\\n\".join(relevant_docs)\n",
    "\n",
    "    prompt = f\"\"\"\n",
    "    我希望你扮演 \"基於事實回答的顧問\" 的角色。\n",
    "    - 請根據以下資訊回答問題 : {context}\n",
    "    - 問題 : {query}\n",
    "    - 遵守下列規則 : \n",
    "      * 請勿幻覺答覆\n",
    "      * 繁體中文回覆\n",
    "    \"\"\"\n",
    "    client = OpenAI(api_key=os.environ.get(\"OPENAI_API_KEY\"))\n",
    "    res = client.chat.completions.create(\n",
    "        messages=[\n",
    "            {\n",
    "                \"role\": \"user\",\n",
    "                \"content\": prompt,\n",
    "            }\n",
    "        ],\n",
    "        model=model,\n",
    "    )\n",
    "    \n",
    "    return res.choices[0].message.content\n",
    "\n",
    "def norm_query(query):\n",
    "    prompt = f\"\"\"\n",
    "    我希望你扮演 \"基於事實回答的顧問\" 的角色。\n",
    "    - 問題 : {query}\n",
    "    - 遵守下列規則 : \n",
    "      * 請勿幻覺答覆\n",
    "      * 繁體中文回覆\n",
    "    \"\"\"\n",
    "    client = OpenAI(api_key=os.environ.get(\"OPENAI_API_KEY\"))\n",
    "    res = client.chat.completions.create(\n",
    "        messages=[\n",
    "            {\n",
    "                \"role\": \"user\",\n",
    "                \"content\": prompt,\n",
    "            }\n",
    "        ],\n",
    "        model=model,\n",
    "    )\n",
    "    return res.choices[0].message.content"
   ]
  },
  {
   "cell_type": "markdown",
   "id": "998d451d-3383-4de2-80c0-f88c05f69f79",
   "metadata": {},
   "source": [
    "# "
   ]
  },
  {
   "cell_type": "markdown",
   "id": "81693aa0df739592",
   "metadata": {},
   "source": [
    "## C.　成果展示"
   ]
  },
  {
   "cell_type": "markdown",
   "id": "6f4ab657-7b76-4f4a-90a5-4186ee36d07c",
   "metadata": {},
   "source": [
    "### I.　什麼是 RAG？"
   ]
  },
  {
   "cell_type": "code",
   "execution_count": 7,
   "id": "db05769849b01fc0",
   "metadata": {},
   "outputs": [
    {
     "data": {
      "text/plain": [
       "'RAG 是「檢索增強生成」（Retrieval-Augmented Generation）的縮寫。這是一種結合資訊檢索和生成模型的方法，用於改善生成式人工智慧系統的準確性和可靠性。RAG 通常包括以下兩個主要步驟：\\n\\n1. **資訊檢索**：在這個階段，系統從一個大型資料庫或知識庫中檢索出相關的資料或文件，以作為背景知識或上下文。\\n\\n2. **生成模型**：使用生成模型（如 GPT-3 等）來生成回應或文字。生成模型會利用先前獲取的相關資訊以提高回答的質量和準確性。\\n\\n這樣的結合方式使得系統能夠在回答問題時，既有依據地引用檢索到的資料，又能利用生成模型生成流暢且連貫的語言表達。RAG 特別適用於需要高準確性和細節支持的應用情境，比如問答系統。'"
      ]
     },
     "execution_count": 7,
     "metadata": {},
     "output_type": "execute_result"
    }
   ],
   "source": [
    "norm_query(\"什麼是 RAG？\")"
   ]
  },
  {
   "cell_type": "code",
   "execution_count": 8,
   "id": "855bc268-b38c-4a07-a4a4-bbda18b93523",
   "metadata": {},
   "outputs": [
    {
     "name": "stderr",
     "output_type": "stream",
     "text": [
      "C:\\Users\\PC\\AppData\\Local\\Temp\\ipykernel_51496\\3191474142.py:5: LangChainDeprecationWarning: The method `BaseRetriever.get_relevant_documents` was deprecated in langchain-core 0.1.46 and will be removed in 1.0. Use :meth:`~invoke` instead.\n",
      "  relevant_docs = retriever.get_relevant_documents(query)\n"
     ]
    },
    {
     "data": {
      "text/plain": [
       "'RAG 是一個知名品牌，專門製作高效清潔抹布，通常市場售價為 30 新台幣。這種抹布因其高效清潔性能，基本上每戶家庭的廚房裡都會有一條用來做清潔工作。'"
      ]
     },
     "execution_count": 8,
     "metadata": {},
     "output_type": "execute_result"
    }
   ],
   "source": [
    "rag_query(\"什麼是 RAG？\")"
   ]
  },
  {
   "cell_type": "markdown",
   "id": "06268aa8-adb1-4464-ac4b-8c686102e715",
   "metadata": {},
   "source": [
    "### II.　什麼是 Google Gemini？"
   ]
  },
  {
   "cell_type": "code",
   "execution_count": 9,
   "id": "dd2825e4-63d4-414e-851e-4c7269f2a962",
   "metadata": {},
   "outputs": [
    {
     "data": {
      "text/plain": [
       "'Google Gemini 是由 Google 開發的一個人工智慧（AI）專案。它是 Google 對大型語言模型的一個重要更新，旨在結合各種技術，提升 AI 理解和生成自然語言的能力。Gemini 的目標是通過更有效的數據處理和學習方法，提供更精確、更具上下文的人工智慧回應。它被視為 Google 對抗其他大型語言模型的競爭者，例如 OpenAI 的 GPT 系列。Gemini 努力在自然語言處理、內容生成、搜尋引擎優化等服務中發揮作用。'"
      ]
     },
     "execution_count": 9,
     "metadata": {},
     "output_type": "execute_result"
    }
   ],
   "source": [
    "norm_query(\"什麼是 Google Gemini？\")"
   ]
  },
  {
   "cell_type": "code",
   "execution_count": 10,
   "id": "f86044b8-bad1-4749-8238-3712bdd0fbf7",
   "metadata": {},
   "outputs": [
    {
     "data": {
      "text/plain": [
       "'Google Gemini 是 Google 研發的一個項目，但截至我所接觸到的資料更新範圍，並沒有詳細的官方資訊可說明 Google Gemini 是什麼。可能是新的技術、產品或項目。建議檢查最新的官方公告或新聞稿，以獲取準確的資訊。'"
      ]
     },
     "execution_count": 10,
     "metadata": {},
     "output_type": "execute_result"
    }
   ],
   "source": [
    "rag_query(\"什麼是 Google Gemini？\")"
   ]
  },
  {
   "cell_type": "markdown",
   "id": "87bb7663-a6a1-4fc8-bc25-6e348acb3cd7",
   "metadata": {},
   "source": [
    "### III.　什麼是 ChatGPT？"
   ]
  },
  {
   "cell_type": "code",
   "execution_count": 11,
   "id": "4fa4ae1c-591e-4f70-bba2-8cd93566e8ec",
   "metadata": {},
   "outputs": [
    {
     "data": {
      "text/plain": [
       "'ChatGPT 是由 OpenAI 開發的一種大型語言模型，基於 GPT-3.5 或更高版本的架構。簡單來說，它是一種使用自然語言處理技術的人工智慧工具，能夠生成類似人類書寫的文本。ChatGPT 可以用於回答問題、撰寫文章、提供建議和進行對話等多種語言相關的應用場景。它通過從大量網路文本資料中學習來提高自身生成文本的能力。需要注意的是，ChatGPT 的知識僅限於它所受訓時的資料，並且不具備即時更新的能力。'"
      ]
     },
     "execution_count": 11,
     "metadata": {},
     "output_type": "execute_result"
    }
   ],
   "source": [
    "norm_query(\"什麼是 ChatGPT？\")"
   ]
  },
  {
   "cell_type": "code",
   "execution_count": 12,
   "id": "58ac2a8f-92cb-4a56-87b2-5f400df29103",
   "metadata": {},
   "outputs": [
    {
     "data": {
      "text/plain": [
       "'ChatGPT 是由 OpenAI 開發的一款基於 GPT 系列模型的聊天機器人應用。它利用了自然語言處理技術，能夠與人類進行對話。ChatGPT 擅長理解並生成類似人類的自然語言回應，常被用於各種對話應用中，如客服、教育、娛樂等。'"
      ]
     },
     "execution_count": 12,
     "metadata": {},
     "output_type": "execute_result"
    }
   ],
   "source": [
    "rag_query(\"什麼是 ChatGPT？\")"
   ]
  },
  {
   "cell_type": "markdown",
   "id": "b8008ea3-4e51-4c52-b3d3-d8aa982e7046",
   "metadata": {},
   "source": [
    "### IV.　什麼是 Agent？"
   ]
  },
  {
   "cell_type": "code",
   "execution_count": 13,
   "id": "50d27fc6-1027-4f4b-b6af-3c54995ce15d",
   "metadata": {},
   "outputs": [
    {
     "data": {
      "text/plain": [
       "'在計算機科學和人工智慧的領域中，「Agent」指的是一個能夠自主執行行為的計算實體。以下是一些關於 Agent 的基本概念：\\n\\n1. **自主性**：Agent 具備自主決策的能力，能夠依據所處的環境和接收到的資訊決定接下來的行動。\\n\\n2. **感知與行動**：Agent 通常具有感知環境的能力（通過感測器）和對環境進行回應的能力（通過效應器）。\\n\\n3. **持續運行**：Agent 通常是長時間運行的系統，保持對環境的持續觀察並作出適當反應。\\n\\n4. **目標導向**：Agent 會根據預設的目標或任務來致力於達成某些結果。例如，搜尋引擎中的網路爬蟲可以視為一種 Agent，其目的是收集網頁資訊。\\n\\n5. **互動性**：很多 Agent 能與其他 Agent 或使用者進行互動，交換信息或協同完成任務。\\n\\n在現代應用中， Agent 的概念被廣泛應用於軟體代理、智慧家庭裝置、遊戲 AI、中介服務等多個領域。'"
      ]
     },
     "execution_count": 13,
     "metadata": {},
     "output_type": "execute_result"
    }
   ],
   "source": [
    "norm_query(\"什麼是 Agent？\")"
   ]
  },
  {
   "cell_type": "code",
   "execution_count": 14,
   "id": "f3177c7e-ca85-4c84-a026-a624c683127c",
   "metadata": {},
   "outputs": [
    {
     "data": {
      "text/plain": [
       "'\"Agent\" 在多個領域中具有不同的含義：\\n\\n1. **人工智慧（AI）中的 Agent**：在人工智慧和機器學習中，Agent 通常指可以感知環境並採取行動的系統或程式。AI Agent 可以是軟體或硬體，通過分析輸入作出決策或執行特定任務。\\n\\n2. **軟體工程中的 Agent**：在軟體工程中，Agent 可能指一個獨立的程式或進程，能夠自動執行某些任務，通常需要在特定的系統環境下運行。\\n\\n3. **一般詞義中的 Agent**：Agent 也可以泛指任何代表他人或某一組織執行職責的人，如房地產代理、運動經紀人等。\\n\\n根據上下文，\"Agent\" 可以有多種解釋，因此重要的是要理解其在特定情境中的具體含義。'"
      ]
     },
     "execution_count": 14,
     "metadata": {},
     "output_type": "execute_result"
    }
   ],
   "source": [
    "rag_query(\"什麼是 Agent？\")"
   ]
  },
  {
   "cell_type": "markdown",
   "id": "92cec00d-5758-417b-acb0-9d43437898cb",
   "metadata": {},
   "source": [
    "### V.　RAG 是抹布嗎? 超商可以買到它嗎?"
   ]
  },
  {
   "cell_type": "code",
   "execution_count": 15,
   "id": "e16bb188-d90c-4f2e-8711-d10d9a62fd78",
   "metadata": {},
   "outputs": [
    {
     "data": {
      "text/plain": [
       "'\"RAG\" 在日常用語中通常指的是抹布，是用來清潔物品或表面的工具。超商通常會出售這些清潔用品，包括各種用途和材料的抹布，因此你可能可以在超商找到抹布。不過，具體的供應情況可能會因地區和超商的品牌而有所不同，建議可以到附近的超商查看清潔用品區來確認。'"
      ]
     },
     "execution_count": 15,
     "metadata": {},
     "output_type": "execute_result"
    }
   ],
   "source": [
    "norm_query(\"RAG 是抹布嗎? 超商可以買到它嗎?\")"
   ]
  },
  {
   "cell_type": "code",
   "execution_count": 16,
   "id": "88e907d0-6192-4ed4-bbed-d1619c4461a7",
   "metadata": {},
   "outputs": [
    {
     "data": {
      "text/plain": [
       "'根據你提供的資訊，RAG 是知名品牌製作的高效清潔抹布。一般家庭都會在廚房放置一條用來清潔。至於是否能在超商買到它，雖然並未明確指出超商有售，但既然是一種普通的消耗品，具有一定的市場需求，所以在許多超商或其他零售商店有販售的可能性較高。不過，具體可購買的地點可能會因地區和超商的產品供應情況而有所不同。'"
      ]
     },
     "execution_count": 16,
     "metadata": {},
     "output_type": "execute_result"
    }
   ],
   "source": [
    "rag_query(\"RAG 是抹布嗎? 超商可以買到它嗎?\")"
   ]
  }
 ],
 "metadata": {
  "kernelspec": {
   "display_name": "Python 3 (ipykernel)",
   "language": "python",
   "name": "python3"
  },
  "language_info": {
   "codemirror_mode": {
    "name": "ipython",
    "version": 3
   },
   "file_extension": ".py",
   "mimetype": "text/x-python",
   "name": "python",
   "nbconvert_exporter": "python",
   "pygments_lexer": "ipython3",
   "version": "3.12.0"
  }
 },
 "nbformat": 4,
 "nbformat_minor": 5
}
